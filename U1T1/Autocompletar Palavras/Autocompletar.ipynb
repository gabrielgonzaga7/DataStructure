{
  "nbformat": 4,
  "nbformat_minor": 0,
  "metadata": {
    "colab": {
      "provenance": []
    },
    "kernelspec": {
      "name": "python3",
      "display_name": "Python 3"
    },
    "language_info": {
      "name": "python"
    }
  },
  "cells": [
    {
      "cell_type": "code",
      "source": [
        "# Imports utilizados\n",
        "# from google.colab import files\n",
        "from IPython.display import Image, display\n",
        "from graphviz import Digraph\n",
        "import string\n",
        "import ipywidgets as widgets\n",
        "import time\n",
        "from IPython.display import display, clear_output"
      ],
      "metadata": {
        "id": "PpXpYuyBCl0Y"
      },
      "execution_count": null,
      "outputs": []
    },
    {
      "cell_type": "code",
      "execution_count": null,
      "metadata": {
        "id": "KYTUYA3iAE2M"
      },
      "outputs": [],
      "source": [
        "class Node:\n",
        "  def __init__(self, value):\n",
        "    self.value = value\n",
        "    self.left_child = None\n",
        "    self.right_child = None"
      ]
    },
    {
      "cell_type": "code",
      "source": [
        "class BST:\n",
        "  def __init__(self):\n",
        "    self.root = None\n",
        "\n",
        "\n",
        "  def add(self, value):\n",
        "    if self.root is None:\n",
        "      self.root = Node(value)\n",
        "    else:\n",
        "      self._add_recursive(self.root, value)\n",
        "\n",
        "\n",
        "  def _add_recursive(self, current_node, value):\n",
        "    if value <= current_node.value:\n",
        "      if current_node.left_child is None:\n",
        "        current_node.left_child = Node(value)\n",
        "      else:\n",
        "        self._add_recursive(current_node.left_child, value)\n",
        "    else:\n",
        "      if current_node.right_child is None:\n",
        "        current_node.right_child = Node(value)\n",
        "      else:\n",
        "        self._add_recursive(current_node.right_child, value)\n",
        "\n",
        "\n",
        "  def _contains(self, current_node, value):\n",
        "    if current_node is None:\n",
        "      return False\n",
        "    if current_node.value == value:\n",
        "      return True\n",
        "    if value < current_node.value:\n",
        "      return self._contains(current_node.left_child, value)\n",
        "    return self._contains(current_node.right_child, value)\n",
        "\n",
        "\n",
        "  def contains(self, value):\n",
        "    return self._contains(self.root, value)"
      ],
      "metadata": {
        "id": "bVtmDpVxsCdY"
      },
      "execution_count": null,
      "outputs": []
    },
    {
      "cell_type": "code",
      "source": [
        "class AVLNode(Node):\n",
        "  def __init__(self, value):\n",
        "      super().__init__(value)\n",
        "      self.height = 1\n",
        "      self.imbalance = 0\n",
        "\n",
        "\n",
        "  def calculate_height_and_imbalance(self):\n",
        "      # Calculate the height of the left child subtree\n",
        "      left_height = 0\n",
        "      if self.left_child is not None:\n",
        "          left_height = self.left_child.height\n",
        "\n",
        "      # Calculate the height of the right child subtree\n",
        "      right_height = 0\n",
        "      if self.right_child is not None:\n",
        "          right_height = self.right_child.height\n",
        "\n",
        "      # Update the height of this node\n",
        "      self.height = 1 + max(left_height, right_height)\n",
        "\n",
        "      # Calculate and update the imbalance factor for this node\n",
        "      self.imbalance = left_height - right_height"
      ],
      "metadata": {
        "id": "YCcZWaEguSl8"
      },
      "execution_count": null,
      "outputs": []
    },
    {
      "cell_type": "code",
      "source": [
        "class AVLTree(BST):\n",
        "  def __init__(self):\n",
        "    super().__init__()\n",
        "\n",
        "  def add(self, value):\n",
        "    self.root = self._add_recursive(self.root, value)  # Note that self.root is updated here\n",
        "\n",
        "  def _add_recursive(self, current_node, value):\n",
        "    # If the current node is None, return a new AVLNode containing the value\n",
        "    if current_node is None:\n",
        "        return AVLNode(value)\n",
        "    # Check if current_node is of the base class Node and cast it to AVLNode if necessary\n",
        "    # This is necessary to not change the add() in the BST class.\n",
        "    # When the first node is added, the type of the root is Node, so we need to cast it\n",
        "    if isinstance(current_node, Node) and not isinstance(current_node, AVLNode):\n",
        "        current_node = AVLNode(current_node.value)\n",
        "        current_node.left_child = self.root.left_child\n",
        "        current_node.right_child = self.root.right_child\n",
        "        self.root = current_node\n",
        "\n",
        "    # Determine whether the value should be inserted to the left or right subtree\n",
        "    if value <= current_node.value:\n",
        "        current_node.left_child = self._add_recursive(current_node.left_child, value)\n",
        "    else:\n",
        "        current_node.right_child = self._add_recursive(current_node.right_child, value)\n",
        "\n",
        "    # Update the height and imbalance factor for the current node\n",
        "    current_node.calculate_height_and_imbalance()\n",
        "\n",
        "    # Check if tree balancing is needed and balance if necessary\n",
        "    if abs(current_node.imbalance) == 2:\n",
        "       return self._balance(current_node)\n",
        "\n",
        "    return current_node\n",
        "\n",
        "  def get_height(self):\n",
        "    if self.root is None:\n",
        "        return 0\n",
        "    return self.root.height\n",
        "\n",
        "\n",
        "  def _rotate_left(self, node):\n",
        "    # Store the pivot (the root of the right subtree of 'node')\n",
        "    pivot = node.right_child\n",
        "\n",
        "    # Update the right child of 'node' to be the left child of the pivot\n",
        "    node.right_child = pivot.left_child\n",
        "\n",
        "    # Set the left child of the pivot to be the node\n",
        "    pivot.left_child = node\n",
        "\n",
        "    # Recalculate the height and imbalance factor for the rotated node\n",
        "    node.calculate_height_and_imbalance()\n",
        "\n",
        "    # Recalculate the height and imbalance factor for the pivot\n",
        "    pivot.calculate_height_and_imbalance()\n",
        "\n",
        "    # Return the pivot as the new root of this subtree\n",
        "    return pivot\n",
        "\n",
        "\n",
        "  def _rotate_right(self, node):\n",
        "    # Store the pivot (the root of the left subtree of 'node')\n",
        "    pivot = node.left_child\n",
        "\n",
        "    # Update the left child of 'node' to be the right child of the pivot\n",
        "    node.left_child = pivot.right_child\n",
        "\n",
        "    # Set the right child of the pivot to be the node\n",
        "    pivot.right_child = node\n",
        "\n",
        "    # Recalculate the height and imbalance factor for the rotated node\n",
        "    node.calculate_height_and_imbalance()\n",
        "\n",
        "    # Recalculate the height and imbalance factor for the pivot\n",
        "    pivot.calculate_height_and_imbalance()\n",
        "\n",
        "    # Return the pivot as the new root of this subtree\n",
        "    return pivot\n",
        "\n",
        "\n",
        "  def _balance(self, node):\n",
        "    # Case 1: Left subtree is higher than right subtree\n",
        "    if node.imbalance == 2:\n",
        "      pivot = node.left_child\n",
        "\n",
        "      # Single right rotation\n",
        "      if pivot.imbalance == 1:\n",
        "        return self._rotate_right(node)\n",
        "      # Double rotation: Left-Right\n",
        "      else:\n",
        "        node.left_child = self._rotate_left(pivot)\n",
        "        return self._rotate_right(node)\n",
        "    # Case 2: Right subtree is higher than left subtree\n",
        "    else:\n",
        "      pivot = node.right_child\n",
        "      # Single left rotation\n",
        "      if pivot.imbalance == -1:\n",
        "        return self._rotate_left(node)\n",
        "      # Double rotation: Right-Left\n",
        "      else:\n",
        "        node.right_child = self._rotate_right(pivot)\n",
        "        return self._rotate_left(node)"
      ],
      "metadata": {
        "id": "9_dmNhpOt74f"
      },
      "execution_count": null,
      "outputs": []
    },
    {
      "cell_type": "code",
      "source": [
        "def build_avl(text):\n",
        "    # Converte o texto para minúsculas e remove pontuação\n",
        "    text = text.lower()\n",
        "    text = text.translate(str.maketrans('', '', string.punctuation))\n",
        "\n",
        "    # Divide o texto em palavras\n",
        "    words = text.split()\n",
        "\n",
        "    # Remove duplicatas mantendo a ordem de ocorrência\n",
        "    unique_words = []\n",
        "    for word in words:\n",
        "        if word not in unique_words:\n",
        "            unique_words.append(word)\n",
        "\n",
        "    # Crie uma instância da árvore AVL\n",
        "    avl_tree = AVLTree()\n",
        "\n",
        "    # Insira cada palavra na árvore AVL\n",
        "    for word in unique_words:\n",
        "        avl_tree.add(word)\n",
        "\n",
        "    return avl_tree"
      ],
      "metadata": {
        "id": "eMNHhYLE6nJq"
      },
      "execution_count": null,
      "outputs": []
    },
    {
      "cell_type": "code",
      "source": [
        "def build_bst(text):\n",
        "    # Converte o texto para minúsculas e remove pontuação\n",
        "    text = text.lower()\n",
        "    text = text.translate(str.maketrans('', '', string.punctuation))\n",
        "\n",
        "    # Divide o texto em palavras\n",
        "    words = text.split()\n",
        "\n",
        "    # Remove duplicatas mantendo a ordem de ocorrência\n",
        "    unique_words = []\n",
        "    for word in words:\n",
        "        if word not in unique_words:\n",
        "            unique_words.append(word)\n",
        "\n",
        "    # Crie uma instância da árvore AVL\n",
        "    bst_tree = BST()\n",
        "\n",
        "    # Insira cada palavra na árvore AVL\n",
        "    for word in unique_words:\n",
        "        bst_tree.add(word)\n",
        "\n",
        "    return bst_tree"
      ],
      "metadata": {
        "id": "xL2yMNsr-RAQ"
      },
      "execution_count": null,
      "outputs": []
    },
    {
      "cell_type": "code",
      "source": [
        "# Exemplo de uso:\n",
        "# text = \"Esta é uma frase de exemplo, com palavras exatas e exatamentes completas. Esta frase possui palavras repetidas, repetidas, repetidas completamente diferentes...\"\n",
        "text = \"\"\"\n",
        "Naquela bela manhã, o sol brilhava no céu azul, e a cidade acordava com seus habitantes cheios de ânimo. A vida naquela localidade era repleta de peculiaridades que a tornavam única. As pessoas ali tinham uma ligação especial com a natureza e valorizavam os pequenos detalhes do cotidiano.\n",
        "\n",
        "A cidade se destacava por suas ruas arborizadas e suas praças bem cuidadas. As árvores frondosas proporcionavam sombra agradável nos dias quentes de verão, convidando os moradores a fazerem picnics e a relaxarem sob suas copas generosas. As crianças, por sua vez, adoravam brincar nos parquinhos cheios de brinquedos coloridos.\n",
        "\n",
        "Os meios de transporte também eram diferentes. Os moradores utilizavam bicicletas como principal forma de locomoção. Ciclovias cruzavam a cidade, tornando-a amigável para os ciclistas. Pedalar pelas ruas sinuosas era um prazer diário, e os ciclistas se cumprimentavam com sorrisos enquanto cruzavam seus caminhos.\n",
        "\n",
        "A gastronomia local era um verdadeiro deleite. Os restaurantes ofereciam pratos deliciosos, com ingredientes frescos e saborosos. Os habitantes se deliciavam com refeições que variavam de saladas fresquinhas a pratos quentes e reconfortantes. Os doces também eram uma tentação, com bolos e sobremesas que deixavam qualquer um com água na boca.\n",
        "\n",
        "As casas naquela cidade tinham um charme especial. Muitas delas eram construídas com tijolos aparentes, criando um ambiente acolhedor e rústico. Os jardins eram bem cuidados, repletos de flores coloridas que enchiam o ar com aromas agradáveis. A arquitetura única das residências dava à cidade um toque de nostalgia.\n",
        "\n",
        "À noite, a cidade ganhava uma nova vida. As ruas se iluminavam com luzes cintilantes, e os bares e cafés se enchiam de pessoas em busca de entretenimento. A música ao vivo ecoava pelos estabelecimentos, convidando todos a dançar e se divertir. Era uma noite cheia de energia e animação.\n",
        "\n",
        "A educação era valorizada naquela cidade, e as escolas proporcionavam um ambiente de aprendizado estimulante. As crianças recebiam uma educação de qualidade, com professores dedicados e recursos modernos. O senso de comunidade estava presente também nas instituições de ensino, onde pais e educadores trabalhavam juntos para o crescimento das novas gerações.\n",
        "\n",
        "Em resumo, aquela cidade era um lugar verdadeiramente especial, onde a natureza, a cultura e a comunidade se uniam para criar um ambiente único. Os moradores se orgulhavam de suas tradições e valores, e a vida ali era marcada por momentos felizes e memoráveis. Era um lugar onde as palavras como beleza, simplicidade e amizade ganhavam um novo significado, tornando-o um local verdadeiramente encantador.\n",
        "Naquela manhã ensolarada, as pessoas se movimentavam pelas ruas da cidade, realizando suas atividades diárias de forma animada. A vida ali era repleta de pequenos detalhes que faziam toda a diferença. Os moradores tinham uma conexão especial com o lugar onde viviam e valorizavam as coisas simples.\n",
        "\n",
        "A cidade se destacava por suas ruas largas e arborizadas. As árvores frondosas criavam sombras agradáveis, convidando as pessoas a fazerem passeios tranquilos. Os parques bem cuidados eram um refúgio para quem buscava um momento de relaxamento, com bancos confortáveis e flores coloridas que enchiam o ambiente de beleza.\n",
        "\n",
        "Os meios de transporte na cidade eram variados, mas as bicicletas eram uma escolha popular. Ciclovias bem sinalizadas cruzavam a localidade, tornando o ciclismo uma forma prazerosa e saudável de se locomover. As bicicletas também eram usadas para realizar entregas rápidas, contribuindo para a agilidade do comércio local.\n",
        "\n",
        "A gastronomia na cidade era diversificada e deliciosa. Os restaurantes ofereciam pratos incríveis, com sabores que faziam a boca salivar. Os moradores desfrutavam de refeições que variavam de pratos leves e saudáveis a iguarias indulgentes. Os doces, em especial, eram tentadores, com bolos e sobremesas que conquistavam os paladares mais exigentes.\n",
        "\n",
        "As casas na cidade tinham um charme próprio. Muitas delas eram construídas com tijolos à vista, conferindo um toque rústico e aconchegante. Os jardins eram verdadeiros oásis de beleza, com flores que desabrochavam em cores vibrantes. A arquitetura singular das residências era um convite à contemplação.\n",
        "\n",
        "À noite, a cidade ganhava um novo vigor. As luzes iluminavam as ruas, e os bares e cafés se enchiam de pessoas em busca de diversão. A música ao vivo enchia o ar com notas envolventes, convidando todos a dançar e se divertir. A vida noturna era agitada e cheia de energia.\n",
        "\n",
        "A educação era valorizada na cidade, e as escolas ofereciam um ambiente propício para o aprendizado. Professores dedicados se empenhavam em proporcionar uma educação de qualidade para as crianças, que eram o futuro da comunidade. Pais e educadores trabalhavam em conjunto para garantir um ambiente de crescimento saudável.\n",
        "\n",
        "Em resumo, aquela cidade era um lugar único, onde a natureza, a cultura e a comunidade se harmonizavam para criar um ambiente especial. Os moradores se orgulhavam de suas tradições e valores, e a vida naquela localidade era marcada por momentos felizes e significativos. Era um lugar onde palavras como beleza, simplicidade e amizade ganhavam um novo significado, tornando-o um local verdadeiramente encantador.\n",
        "\"\"\"\n",
        "\n",
        "# Criar a árvore AVL\n",
        "start_build_avltree_time = time.time()\n",
        "\n",
        "avl_tree = build_avl(text)\n",
        "\n",
        "end_build_avltree_time = time.time()\n",
        "\n",
        "build_avltree_duration = end_build_avltree_time - start_build_avltree_time\n",
        "print(f\"Tempo de criação da árvore: {build_avltree_duration:.6f} segundos\")\n"
      ],
      "metadata": {
        "id": "5q7ooo1LCf_K",
        "colab": {
          "base_uri": "https://localhost:8080/"
        },
        "outputId": "f197d483-0299-4d52-ef71-33d0cf4ee2c6"
      },
      "execution_count": null,
      "outputs": [
        {
          "output_type": "stream",
          "name": "stdout",
          "text": [
            "Tempo de criação da árvore: 0.014408 segundos\n"
          ]
        }
      ]
    },
    {
      "cell_type": "code",
      "source": [
        "# Criar a árvore BST\n",
        "start_build_bsttree_time = time.time()\n",
        "\n",
        "bst_tree = build_bst(text)\n",
        "\n",
        "end_build_bsttree_time = time.time()\n",
        "\n",
        "build_bsttree_duration = end_build_bsttree_time - start_build_bsttree_time\n",
        "print(f\"Tempo de criação da árvore: {build_bsttree_duration:.6f} segundos\")"
      ],
      "metadata": {
        "colab": {
          "base_uri": "https://localhost:8080/"
        },
        "id": "ASTBMTVtGd-j",
        "outputId": "42d0d665-094e-471f-edbb-e6be7b3f42d6"
      },
      "execution_count": null,
      "outputs": [
        {
          "output_type": "stream",
          "name": "stdout",
          "text": [
            "Tempo de criação da árvore: 0.005790 segundos\n"
          ]
        }
      ]
    },
    {
      "cell_type": "code",
      "source": [
        "#Com AVL\n",
        "\n",
        "def search_tree_for_matches(tree, characters):\n",
        "    # Verifique se a entrada tem pelo menos dois caracteres\n",
        "    if len(characters) < 2:\n",
        "        return []\n",
        "\n",
        "    # Função recursiva para realizar a pesquisa na árvore e adicionar nós correspondentes a 'matches'\n",
        "    def search_recursive(node, matches):\n",
        "        if node is None:\n",
        "            return\n",
        "\n",
        "        # Adicione a letra do nó atual à sequência atual\n",
        "        current_chars = node.value\n",
        "\n",
        "        # Verifique se a sequência de caracteres fornecida está em qualquer lugar da palavra do nó atual\n",
        "        if current_chars.startswith(characters):\n",
        "            matches.append(current_chars)\n",
        "\n",
        "        # Recurso para o nó esquerdo\n",
        "        search_recursive(node.left_child, matches)\n",
        "\n",
        "        # Recurso para o nó direito\n",
        "        search_recursive(node.right_child, matches)\n",
        "\n",
        "    # Inicialize a lista de correspondências\n",
        "    matches = []\n",
        "\n",
        "    # Chame a função de pesquisa recursiva a partir da raiz da árvore\n",
        "    search_recursive(tree.root, matches)\n",
        "\n",
        "    return matches\n"
      ],
      "metadata": {
        "id": "ilU-k3h-c5el"
      },
      "execution_count": null,
      "outputs": []
    },
    {
      "cell_type": "code",
      "source": [
        "#Fazendo com BST\n",
        "\n",
        "def search_tree_for_matches_BST(tree, characters):\n",
        "    # Verifique se a entrada tem pelo menos dois caracteres\n",
        "    if len(characters) < 2:\n",
        "        return []\n",
        "\n",
        "    # Função recursiva para realizar a pesquisa na árvore e adicionar nós correspondentes a 'matches'\n",
        "    def search_recursive(node, matches):\n",
        "        if node is None:\n",
        "            return\n",
        "\n",
        "        # Adicione a letra do nó atual à sequência atual\n",
        "        current_chars = node.value\n",
        "\n",
        "        # Verifique se a sequência de caracteres fornecida está em qualquer lugar da palavra do nó atual\n",
        "        if current_chars.startswith(characters):\n",
        "            matches.append(current_chars)\n",
        "\n",
        "        # Recurso para o nó esquerdo\n",
        "        search_recursive(node.left_child, matches)\n",
        "\n",
        "        # Recurso para o nó direito\n",
        "        search_recursive(node.right_child, matches)\n",
        "\n",
        "    # Inicialize a lista de correspondências\n",
        "    matches = []\n",
        "\n",
        "    # Chame a função de pesquisa recursiva a partir da raiz da árvore\n",
        "    search_recursive(tree.root, matches)\n",
        "\n",
        "    matches = sorted(matches)\n",
        "\n",
        "    return matches\n"
      ],
      "metadata": {
        "id": "CtxrEuiY8YA7"
      },
      "execution_count": null,
      "outputs": []
    },
    {
      "cell_type": "code",
      "source": [
        "#Busca com BST\n",
        "\n",
        "while True:\n",
        "  input_text_bst = input(\"Buscar: \")\n",
        "  if(input_text_bst == \"exit\"):\n",
        "    break\n",
        "\n",
        "  start_time_bst = time.time()\n",
        "  matches_bst = search_tree_for_matches_BST(bst_tree, input_text_bst)\n",
        "\n",
        "  end_time_bst = time.time()\n",
        "  during_time_bst = end_time_bst - start_time_bst\n",
        "\n",
        "  for match in matches_bst:\n",
        "    print(match)\n",
        "\n",
        "  print(f\"Tempo de busca: {during_time_bst:.6f} segundos\")"
      ],
      "metadata": {
        "colab": {
          "base_uri": "https://localhost:8080/"
        },
        "id": "8mHc9egCaYeU",
        "outputId": "a6ba219f-9108-444f-af89-8e2758dc2f76"
      },
      "execution_count": null,
      "outputs": [
        {
          "name": "stdout",
          "output_type": "stream",
          "text": [
            "Buscar: pa\n",
            "pais\n",
            "paladares\n",
            "palavras\n",
            "para\n",
            "parques\n",
            "parquinhos\n",
            "passeios\n",
            "Tempo de busca: 0.000381 segundos\n",
            "Buscar: ta\n",
            "também\n",
            "Tempo de busca: 0.000404 segundos\n",
            "Buscar: exit\n"
          ]
        }
      ]
    },
    {
      "cell_type": "code",
      "source": [
        "while True:\n",
        "  input_text = input(\"Buscar: \")\n",
        "  if(input_text == \"exit\"):\n",
        "    break\n",
        "\n",
        "  start_time = time.time()\n",
        "  matches_avl = search_tree_for_matches(avl_tree, input_text)\n",
        "\n",
        "  end_time = time.time()\n",
        "  during_time = end_time - start_time\n",
        "\n",
        "  for match in matches_avl:\n",
        "    print(match)\n",
        "\n",
        "  print(f\"Tempo de busca: {during_time:.6f} segundos\")\n",
        "\n",
        "\n"
      ],
      "metadata": {
        "colab": {
          "base_uri": "https://localhost:8080/"
        },
        "id": "SmdK8xaKHXvY",
        "outputId": "e59c53f3-bb00-4a9b-a224-59a946fe4c7c"
      },
      "execution_count": null,
      "outputs": [
        {
          "name": "stdout",
          "output_type": "stream",
          "text": [
            "Buscar: pa\n",
            "paladares\n",
            "pais\n",
            "para\n",
            "palavras\n",
            "parquinhos\n",
            "parques\n",
            "passeios\n",
            "Tempo de busca: 0.000358 segundos\n",
            "Buscar: ta\n",
            "também\n",
            "Tempo de busca: 0.000310 segundos\n",
            "Buscar: exit\n"
          ]
        }
      ]
    }
  ]
}